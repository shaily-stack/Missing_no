{
 "cells": [
  {
   "cell_type": "markdown",
   "metadata": {},
   "source": [
    "# Exploratory Data Analysis"
   ]
  },
  {
   "cell_type": "markdown",
   "metadata": {},
   "source": [
    "### The document below guides step by step handling of EDA for every possible data set,\n",
    "### Comments are added and all commands which does not make sense for current data set can be commented out "
   ]
  },
  {
   "cell_type": "markdown",
   "metadata": {},
   "source": [
    "#### Necessary dependencies"
   ]
  },
  {
   "cell_type": "code",
   "execution_count": 4,
   "metadata": {},
   "outputs": [
    {
     "ename": "ModuleNotFoundError",
     "evalue": "No module named 'missingno'",
     "output_type": "error",
     "traceback": [
      "\u001b[1;31m---------------------------------------------------------------------------\u001b[0m",
      "\u001b[1;31mModuleNotFoundError\u001b[0m                       Traceback (most recent call last)",
      "\u001b[1;32m<ipython-input-4-35093a7bbaa8>\u001b[0m in \u001b[0;36m<module>\u001b[1;34m\u001b[0m\n\u001b[0;32m      6\u001b[0m \u001b[0mget_ipython\u001b[0m\u001b[1;33m(\u001b[0m\u001b[1;33m)\u001b[0m\u001b[1;33m.\u001b[0m\u001b[0mrun_line_magic\u001b[0m\u001b[1;33m(\u001b[0m\u001b[1;34m'matplotlib'\u001b[0m\u001b[1;33m,\u001b[0m \u001b[1;34m'inline'\u001b[0m\u001b[1;33m)\u001b[0m\u001b[1;33m\u001b[0m\u001b[1;33m\u001b[0m\u001b[0m\n\u001b[0;32m      7\u001b[0m \u001b[1;32mimport\u001b[0m \u001b[0mseaborn\u001b[0m \u001b[1;32mas\u001b[0m \u001b[0msns\u001b[0m\u001b[1;33m\u001b[0m\u001b[1;33m\u001b[0m\u001b[0m\n\u001b[1;32m----> 8\u001b[1;33m \u001b[1;32mimport\u001b[0m \u001b[0mmissingno\u001b[0m\u001b[1;33m\u001b[0m\u001b[1;33m\u001b[0m\u001b[0m\n\u001b[0m",
      "\u001b[1;31mModuleNotFoundError\u001b[0m: No module named 'missingno'"
     ]
    }
   ],
   "source": [
    "import os     #to fix working directory\n",
    "import pandas as pd\n",
    "import numpy as np\n",
    "import matplotlib\n",
    "import matplotlib.pyplot as plt\n",
    "%matplotlib inline\n",
    "import seaborn as sns\n",
    "import missingno"
   ]
  },
  {
   "cell_type": "code",
   "execution_count": 4,
   "metadata": {},
   "outputs": [],
   "source": [
    "#pip install missingno"
   ]
  },
  {
   "cell_type": "code",
   "execution_count": null,
   "metadata": {},
   "outputs": [],
   "source": [
    "#defining working directory\n",
    "\n",
    "os chdir('C:/Users/Jains/Desktop/Folder1')"
   ]
  },
  {
   "cell_type": "markdown",
   "metadata": {},
   "source": [
    "###### Basic Uploading Data and knowing its dimensions and datatypes"
   ]
  },
  {
   "cell_type": "code",
   "execution_count": null,
   "metadata": {},
   "outputs": [],
   "source": [
    "df= pd.read_csv('abc.csv')   #pd.read_excel (r'Path where the Excel file is stored\\File name.xlsx',sheet_name='sheet1')\n",
    "                             #if data in excel format\n",
    "df.head(3)                             "
   ]
  },
  {
   "cell_type": "code",
   "execution_count": null,
   "metadata": {},
   "outputs": [],
   "source": [
    "df.columns = df.iloc[0]      #if data starts from 2nd row...Promoting the headers\n",
    "df = df[1:]"
   ]
  },
  {
   "cell_type": "code",
   "execution_count": null,
   "metadata": {},
   "outputs": [],
   "source": [
    "df.shape                     #returns (total rows,total columns in df)"
   ]
  },
  {
   "cell_type": "code",
   "execution_count": null,
   "metadata": {},
   "outputs": [],
   "source": [
    "df.info()                    #returns columns with non null values, datatypes (df.dtypes can also be used) in df"
   ]
  },
  {
   "cell_type": "code",
   "execution_count": null,
   "metadata": {},
   "outputs": [],
   "source": [
    "df.describe()                #returns desciptive summary of numerical columns if any, \n",
    "df.describe(include=['O']    #else gives unique,most frq value and its frequency.... df.describe(include=['O']"
   ]
  },
  {
   "cell_type": "code",
   "execution_count": null,
   "metadata": {},
   "outputs": [],
   "source": [
    "num_cols=df._get_numeric_data().columns\n",
    "list(set(df.columns)-set(num_columns))\n",
    "\n",
    "# or\n",
    "\n",
    "df.select_dtypes('float')  #np.number, exclude='float'\n",
    "\n",
    "#or plotting number of columns of each type\n",
    "\n",
    "data_type=pd.DataFrame(df.dtypes.value_counts()).reset_index().rename(columns={'index':'Variable_type',0:'Count'})\n",
    "fig,ax= plt.subplots()\n",
    "fig.set_size_inches(20,5)\n",
    "sns.barplot(data=data_type,x='Variable_type',y='Count',ax=ax)\n",
    "ax.set(xlabel='Type of variable',ylabel='Count of columns',title='Variable count across data types')"
   ]
  },
  {
   "cell_type": "code",
   "execution_count": null,
   "metadata": {},
   "outputs": [],
   "source": [
    "df['col1'] = df['col1'].astype('float')   #float(decimal) and int types for numeric data\n",
    "df['col2'] = df['col2'].astype('str')     #str and category types consume same memory\n",
    "df['col2'].astype(str).str.strip().astype('category')   #str.strip rips off white trailing spaces and trims string"
   ]
  },
  {
   "cell_type": "markdown",
   "metadata": {},
   "source": [
    "###### Dropping columns"
   ]
  },
  {
   "cell_type": "code",
   "execution_count": null,
   "metadata": {},
   "outputs": [],
   "source": [
    "drop_cols=['col1','col2']\n",
    "\n",
    "df= df.drop(drop_cols,axis=1)"
   ]
  },
  {
   "cell_type": "code",
   "execution_count": null,
   "metadata": {},
   "outputs": [],
   "source": [
    "#replcae spaces in column name\n",
    "\n",
    "df.columns=df.columns.str.replace(\" \",\"_\")"
   ]
  },
  {
   "cell_type": "code",
   "execution_count": null,
   "metadata": {},
   "outputs": [],
   "source": [
    "#drop duplicate rows if any\n",
    "\n",
    "df=df.drop_duplicates(subset='col1',keep=first)     #keep='first','last', FALSE"
   ]
  },
  {
   "cell_type": "code",
   "execution_count": null,
   "metadata": {},
   "outputs": [],
   "source": [
    "#sort w.r.t a col\n",
    "df.sort_values(by=['col1','col2'],ascending=False).head(2)  #inplace=True if replace passed dataset"
   ]
  },
  {
   "cell_type": "code",
   "execution_count": null,
   "metadata": {},
   "outputs": [],
   "source": [
    "# function to get data columns for largest and smallest value in each column\n",
    "\n",
    "def min_max_col(col):\n",
    "    top = df[col].idxmax()\n",
    "    top_obs=pd.DataFrame[df.loc[top]]\n",
    "    bot = df[col].idxmin()\n",
    "    bot_obs=pd.DataFrame[df.loc[bot]]\n",
    "    \n",
    "    min_max_obs=pd.concat([top_obs,bot_obs],axis=1)\n",
    "    \n",
    "    \n",
    "#Also nlargest/nsmallest of any column can be taken\n",
    "\n",
    "df.nlargest(n,['col1'])   #nsmallest"
   ]
  },
  {
   "cell_type": "code",
   "execution_count": null,
   "metadata": {},
   "outputs": [],
   "source": [
    "min_max_col('col1')"
   ]
  },
  {
   "cell_type": "markdown",
   "metadata": {},
   "source": [
    "### Plot and checking the columns"
   ]
  },
  {
   "cell_type": "code",
   "execution_count": null,
   "metadata": {},
   "outputs": [],
   "source": [
    "#histogram for continuous data\n",
    "n_bins=10\n",
    "plt.hist(df['col1'],n_bins)"
   ]
  },
  {
   "cell_type": "code",
   "execution_count": 5,
   "metadata": {},
   "outputs": [
    {
     "data": {
      "image/png": "[encoded data removed]",
      "text/plain": [
       "<Figure size 432x288 with 1 Axes>"
      ]
     },
     "metadata": {},
     "output_type": "display_data"
    }
   ],
   "source": [
    "#probablity distribution function(pdfs)\n",
    "\n",
    "#KDE in black below is Kernel Density Estimation, to estimate pdf of continuous random variable;\n",
    "    #It is used for non parametric analysis\n",
    "\n",
    "sns.set(); np.random.seed(0)\n",
    "x = np.random.randn(100)\n",
    "# ax = sns.distplot(x)\n",
    "\n",
    "# ax = sns.distplot(x, rug=True, hist=False)   #rug plots are for knowing which x values are present in data, \n",
    "                                               #like eg 0.5-0.6 not there\n",
    "\n",
    "ax = sns.distplot(x, rug=True, rug_kws={\"color\": \"g\"},\n",
    "                  kde_kws={\"color\": \"k\", \"lw\": 3, \"label\": \"KDE\"},\n",
    "                  hist_kws={\"histtype\": \"step\", \"linewidth\": 3,\n",
    "                            \"alpha\": 1, \"color\": \"g\"})\n"
   ]
  },
  {
   "cell_type": "code",
   "execution_count": null,
   "metadata": {},
   "outputs": [],
   "source": [
    "#Plotting KDEs(Kernel Density Estimates)\n",
    "\n",
    "plt.figure(figsize=(2*no_of_columns,5*no_of_rows))\n",
    "for i in range(0,len(df.columns)):\n",
    "    plt.subplot(no_of_rows+1,no_of_columns,i+1)      #plt.subplot(nrows,ncols,index)\n",
    "    sns.distplot(df[df.columns[i]],kde=True)"
   ]
  },
  {
   "cell_type": "code",
   "execution_count": null,
   "metadata": {},
   "outputs": [],
   "source": [
    "#Box Plots though outlier treatment later stage\n",
    "df.boxplot(column='col1',by='col2')    or sns.boxplot(x=df['col1'])\n",
    "\n",
    "no_of_columns=12\n",
    "no_of_rows = len(df.columns)-1/no_of_columns\n",
    "\n",
    "#multiple boxplots\n",
    "plt.figure(figsize=(2*no_of_columns,5*no_of_rows))\n",
    "for i in range(0,len(df.columns)):\n",
    "    plt.subplot(no_of_rows+1,no_of_columns,i+1)      #plt.subplot(nrows,ncols,index)\n",
    "    sns.set_style('whitegrid')\n",
    "    \n",
    "    sns.boxplot(df[df.columns[i]],color='green',orient='v')\n",
    "    plt.tight_layout()"
   ]
  },
  {
   "cell_type": "code",
   "execution_count": null,
   "metadata": {},
   "outputs": [],
   "source": [
    "#Violin Plot\n",
    "g= sns.catplot(x='col1',y='col2',\n",
    "               hue='col3',col='col4',\n",
    "              data=df,kind='violin',split=True,\n",
    "              height=4, aspect=0.7)     # shows violin for col1, col2 on y, colour split on col3 and spearate columns for col4 types\n",
    "f=sns.violinplot(x='col1',y='col2',hue='col3',\n",
    "                data=df,split=True,scale='count')    #scale can be 'area','count','width', depending upon violin similarity"
   ]
  },
  {
   "cell_type": "code",
   "execution_count": null,
   "metadata": {},
   "outputs": [],
   "source": [
    "#countplot\n",
    "sns.countplot(df.col1)"
   ]
  },
  {
   "cell_type": "code",
   "execution_count": null,
   "metadata": {},
   "outputs": [],
   "source": []
  },
  {
   "cell_type": "markdown",
   "metadata": {},
   "source": [
    "### Missing Values"
   ]
  },
  {
   "cell_type": "code",
   "execution_count": 1,
   "metadata": {},
   "outputs": [],
   "source": [
    "# First Need of data:,  Kaggle Kernels, Medium and Towards Data Science"
   ]
  },
  {
   "cell_type": "code",
   "execution_count": null,
   "metadata": {},
   "outputs": [],
   "source": [
    "# First standard missing notation for all column\n",
    "df['Gender'].fillna('No Gender',inplace=True)\n",
    "df['col1'].replace(to_replace=np.nan, value=-90})"
   ]
  },
  {
   "cell_type": "code",
   "execution_count": null,
   "metadata": {},
   "outputs": [],
   "source": [
    "#Propogation, Correlation, One hot encoding(nominal), label encoding(ordinal), balanced, imbalanced dataset\n"
   ]
  },
  {
   "cell_type": "code",
   "execution_count": null,
   "metadata": {},
   "outputs": [],
   "source": [
    "df.apply(lambda x: sum(x.isnull()),axis=0)   #returns column name and number of missing entries\n",
    "\n",
    "sns.heatmap(df.isnull(),cbar= False)"
   ]
  },
  {
   "cell_type": "markdown",
   "metadata": {},
   "source": [
    "###### Missingno Library\n"
   ]
  },
  {
   "cell_type": "code",
   "execution_count": null,
   "metadata": {},
   "outputs": [],
   "source": [
    "Nullity Matrix;---msno.matrix(df) \n",
    "Bar Chart of percentage missing in each column---msnobar() \n",
    "Heat map for correlation between missing in one coumn to othr, lower the correlation indicates MAR()---msno.heatmap()  \n",
    "Dendogram(more similar missingness in 1 col to other than they will be grouped together first)---msno.dendogram()"
   ]
  },
  {
   "cell_type": "code",
   "execution_count": 2,
   "metadata": {},
   "outputs": [],
   "source": [
    "# MCAR(Missing Completely at random)--n ppl absent in class due to their own reasons--- Deletion row/col\n",
    "    # The missing value is missing completely at random. The propensity for a data point to be \n",
    "    # missing does not have anything to do with its hypothetical value and with the values of other variables.\n",
    "    \n",
    "LittleMCAR test available in R , to check significance of hypothesis that all missing data are MCAR., \n",
    "but python can not find similar lib.      \n",
    "\n",
    "# MAR(Missing at random)--flue season and n ppl absent---Imputtation single/Mul\n",
    "    # The missing value is missing due to some of the observed data. The propensity for a data point \n",
    "    # to be missing is not related to missing data, but it is related to some of the observed data.\n",
    "\n",
    "# MNAR(Missing not at random)--on test day n ppl absent, indicating not well prepared d=students(adverse selection)---Improve/Sensitize(find data, or best/worse case scenario)\n",
    "    # The missing value is missing not at random. There are reasons for this. Often, the reasons are that the missing value depends \n",
    "    # on the hypothetical value or it is dependent on another variable’s value."
   ]
  },
  {
   "cell_type": "code",
   "execution_count": null,
   "metadata": {},
   "outputs": [],
   "source": [
    "# generate preview of entries with null values\n",
    "if len(df[df.isnull().any(axis=1)] != 0):\n",
    "    print(\"\\nPreview of data with null values:\\nxxxxxxxxxxxxx\")\n",
    "    print(df[df.isnull().any(axis=1)].head(3))\n",
    "    missingno.matrix(df)\n",
    "    plt.show()\n",
    "        \n",
    "Eg Image    "
   ]
  },
  {
   "cell_type": "code",
   "execution_count": 2,
   "metadata": {},
   "outputs": [],
   "source": [
    "#<img src='Missingno.png' style=\"width:200px;height:400px\"/>   and then markdown, \n",
    "#here bkank spaces sk=hows missing values\n",
    "#Or use ![](Missingno.png)   "
   ]
  },
  {
   "cell_type": "code",
   "execution_count": null,
   "metadata": {},
   "outputs": [],
   "source": [
    "# Treatment of missing values\n",
    "# If MCAR\n",
    "#         -Listwise Deletion  .....removing the entire record \n",
    "            # can reduce sample size. \n",
    "            # Unless you are sure that the record is definitely not MNAR, this technique may introduce bias into the dataset.\n",
    "#         -Pairwise Deletion  .....method that uses the correlation between pairs of\n",
    "#                                 variables to maximize data available on an analysis by analysis basis.\n",
    "            # Disadvantages — It’s difficult to interpret parts of \n",
    "            # your model due to the fact that there are different numbers of observations contributing to different parts of your model.\n",
    "#         -Column Deletion\n",
    "# FOR CATEGORICAL VARIABLE OPTIONS(new category, Logistic, Knn, multiple imputation)\n",
    "\n",
    "#         -Mean/Median/Central Tendency --reduces variance\n",
    "\n",
    "from sklearn.impute import SimpleImputer\n",
    "imp_mean = SimpleImputer( strategy='mean') #for median imputation replace 'mean' with 'median' or 'most_frequent', df.fillna(constant)\n",
    "imp_mean.fit(train)\n",
    "imputed_train_df = imp_mean.transform(train)\n",
    "\n",
    "\n",
    "\n",
    "--OR--\n",
    "df.Column_Name.fillna(df.Column_Name.mean(), inplace=True)\n",
    "df.Column_Name.fillna(df.Column_Name.median(), inplace=True)\n",
    "df.Column_Name.fillna(df.Column_Name.mode(), inplace=True)\n",
    "\n",
    "\n",
    "\n",
    "\n",
    "#         - k-NN\n",
    "\n",
    "import sys\n",
    "from impyute.imputation.cs import fast_knn\n",
    "sys.setrecursionlimit(100000) #Increase the recursion limit of the OS\n",
    "\n",
    "# (start the KNN training)\n",
    "imputed_training=fast_knn(train.values, k=30)\n",
    "\n",
    "--OR-- continuous(Euclidean Method) and categorical(Hamming Distance) \n",
    "\n",
    "from sklearn.neighbors import KNeighborsClassifier\n",
    "from sklearn.preprocessing import Imputer\n",
    "from sklearn.pipeline import Pipeline\n",
    "\n",
    "k_range=range(1,26)\n",
    "\n",
    "for k in k_range :\n",
    "    imp=Imputer(missing_values='NaN',strategy='mean',axis=0)\n",
    "    knn=KNeighborsClassifier(n_neighbors=k)\n",
    "    steps=[('imputation',imp),('K-Nearest Neighbor',knn)]\n",
    "    pipeline=Pipeline(steps)\n",
    "    X_train, X_test, Y_train, Y-test = train_test_split(X,y,test_size=0.3,random_state=42)\n",
    "    pipeline.fit(X_train,Y_train)\n",
    "    y_pred=pipeline.predict(X_test)\n",
    "    pipeline.score(X_test, Y_test)\n",
    "    \n",
    "    \n",
    "#         -Hot Deck Method--similar obs's value imputed\n",
    "#         -Single Regression imputation--predicted value-std error is deflated, there must be a linear relationship  \n",
    "\n",
    "from sklearn.linear_model import LinearModel\n",
    "from sklearn.preprocessing import Imputer\n",
    "from sklearn.pipeline import Pipeline\n",
    "\n",
    "imp=imputer(missing_values='NaN',strategy='mean',axis=0)\n",
    "linmodel=Linearmodel()\n",
    "steps=[('imputation',imp),('linear_regression',linmodel)]\n",
    "pipeline=Pipeline(steps)\n",
    "X_train, X_test, Y_train, Y-test = train_test_split(X,y,test_size=0.3,random_state=42)\n",
    "pipeline.fit(X_train,Y_train)\n",
    "y_pred=pipeline.predict(X_test)\n",
    "pipeline.score(X_test,Y_test)\n",
    "\n",
    "#         -Logistics Regression\n",
    "\n",
    "from sklearn.pipeline import Pipeline\n",
    "from sklearn.preprocessing import Imputer\n",
    "from sklearn.linear_model import LogisticRegression\n",
    "imp=Imputer(missing_values=\"NaN\", strategy=\"mean\", axis=0)\n",
    "logmodel = LogisticRegression()\n",
    "steps=[('imputation',imp),('logistic_regression',logmodel)]\n",
    "pipeline=Pipeline(steps)\n",
    "X_train, X_test, Y_train, Y_test=train_test_split(X, y, test_size=0.3, random_state=42)\n",
    "pipeline.fit(X_train, Y_train)\n",
    "y_pred=pipeline.predict(X_test)\n",
    "pipeline.score(X_test, Y_test)\n",
    "\n",
    "#         -Stochastic Regression--bias reduced by augmenting pred vlaue by residual term-variance preserved, unbiased estimate\n",
    "\n",
    "\n",
    "Multiple Imputation\n",
    "          -Multivariate imputation by chain equations--handle cont/binary data---creating multiple 'complete datasets' \n",
    "            by filling missing data multiple times\n",
    "#             imputing data with mice()\n",
    "#             building model using with()\n",
    "#             pooling results for all models using pool()\n",
    "\n",
    "from impyute.imputation.cs import mice\n",
    "\n",
    "# start the MICE training\n",
    "imputed_training=mice(train.values)        \n",
    "        \n",
    "If MNAR--Sensitivity analysis\n",
    "          -Best/worst case to show ramge of uncertainty due to missing values \n",
    "    \n",
    "    \n",
    "Deep Learning(Datawig)\n",
    "\n",
    "import datawig\n",
    "\n",
    "df_train,df_test= datawig.utils.random_split(train)\n",
    "\n",
    "#Initialise a SimpleImputer Model\n",
    "imputer= datawig.SimpleImputer(\n",
    "            input_columns =['1','2','3','4','target'],  # column(s) containing information about the column we want to impute\n",
    "\n",
    "            output_column ='0', # the column we'd like to impute values for\n",
    "            output_path = 'imputer_model' )  #stores model data and metrics\n",
    "#Fit an imputer model on train model data\n",
    "imputer.fit(train_df=df_train, num_epochs=50)\n",
    "\n",
    "#Impute missing values and return orginal dataframe with predictions\n",
    "\n",
    "imputed=imputer.predict(df_test)\n"
   ]
  },
  {
   "cell_type": "code",
   "execution_count": null,
   "metadata": {},
   "outputs": [],
   "source": [
    "df.dropna(how='all')\n",
    "df.dropna(axis=1,how='any')\n",
    "\n",
    "#Treatment 1\n",
    "df['Gender'].fillna(method='pad',inplace=True)      #previous value\n",
    "df['Gender'].fillna(method='bfill',inplace=True)    #following value\n",
    "\n",
    "\n",
    "\n",
    "#Treatment 1\n",
    "from sklearn.impute import SimpleImputer\n",
    "my_imputer=SimpleImputer()\n",
    "df_trans=my_imputer.fit_transform(df)    #fit missing data with mean\n",
    "\n",
    "#Treatment 2 : Linear Interpolation\n",
    "df.interpolate(method='linear',limit_direction='forward')\n",
    "\n"
   ]
  }
 ],
 "metadata": {
  "kernelspec": {
   "display_name": "Python 3",
   "language": "python",
   "name": "python3"
  },
  "language_info": {
   "codemirror_mode": {
    "name": "ipython",
    "version": 3
   },
   "file_extension": ".py",
   "mimetype": "text/x-python",
   "name": "python",
   "nbconvert_exporter": "python",
   "pygments_lexer": "ipython3",
   "version": "3.7.4"
  }
 },
 "nbformat": 4,
 "nbformat_minor": 2
}
